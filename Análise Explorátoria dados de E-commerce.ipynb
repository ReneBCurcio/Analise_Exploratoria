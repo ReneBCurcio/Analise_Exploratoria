{
 "cells": [
  {
   "cell_type": "code",
   "execution_count": 1,
   "id": "a0719ce5",
   "metadata": {},
   "outputs": [],
   "source": [
    "import pandas as pd\n",
    "import matplotlib.pyplot as plt\n",
    "import seaborn as sns"
   ]
  },
  {
   "cell_type": "code",
   "execution_count": 2,
   "id": "0402fdbe",
   "metadata": {},
   "outputs": [],
   "source": [
    "wish = pd.read_csv(\"summer-products-with-rating-and-performance_2020-08.csv\")"
   ]
  },
  {
   "cell_type": "code",
   "execution_count": 3,
   "id": "58db8a6c",
   "metadata": {},
   "outputs": [
    {
     "data": {
      "text/plain": [
       "Index(['title', 'title_orig', 'price', 'retail_price', 'currency_buyer',\n",
       "       'units_sold', 'uses_ad_boosts', 'rating', 'rating_count',\n",
       "       'rating_five_count', 'rating_four_count', 'rating_three_count',\n",
       "       'rating_two_count', 'rating_one_count', 'badges_count',\n",
       "       'badge_local_product', 'badge_product_quality', 'badge_fast_shipping',\n",
       "       'tags', 'product_color', 'product_variation_size_id',\n",
       "       'product_variation_inventory', 'shipping_option_name',\n",
       "       'shipping_option_price', 'shipping_is_express', 'countries_shipped_to',\n",
       "       'inventory_total', 'has_urgency_banner', 'urgency_text',\n",
       "       'origin_country', 'merchant_title', 'merchant_name',\n",
       "       'merchant_info_subtitle', 'merchant_rating_count', 'merchant_rating',\n",
       "       'merchant_id', 'merchant_has_profile_picture',\n",
       "       'merchant_profile_picture', 'product_url', 'product_picture',\n",
       "       'product_id', 'theme', 'crawl_month'],\n",
       "      dtype='object')"
      ]
     },
     "execution_count": 3,
     "metadata": {},
     "output_type": "execute_result"
    }
   ],
   "source": [
    "wish.columns"
   ]
  },
  {
   "cell_type": "code",
   "execution_count": 4,
   "id": "e572357e",
   "metadata": {},
   "outputs": [
    {
     "data": {
      "text/html": [
       "<div>\n",
       "<style scoped>\n",
       "    .dataframe tbody tr th:only-of-type {\n",
       "        vertical-align: middle;\n",
       "    }\n",
       "\n",
       "    .dataframe tbody tr th {\n",
       "        vertical-align: top;\n",
       "    }\n",
       "\n",
       "    .dataframe thead th {\n",
       "        text-align: right;\n",
       "    }\n",
       "</style>\n",
       "<table border=\"1\" class=\"dataframe\">\n",
       "  <thead>\n",
       "    <tr style=\"text-align: right;\">\n",
       "      <th></th>\n",
       "      <th>title</th>\n",
       "      <th>title_orig</th>\n",
       "      <th>price</th>\n",
       "      <th>retail_price</th>\n",
       "      <th>currency_buyer</th>\n",
       "      <th>units_sold</th>\n",
       "      <th>uses_ad_boosts</th>\n",
       "      <th>rating</th>\n",
       "      <th>rating_count</th>\n",
       "      <th>rating_five_count</th>\n",
       "      <th>...</th>\n",
       "      <th>merchant_rating_count</th>\n",
       "      <th>merchant_rating</th>\n",
       "      <th>merchant_id</th>\n",
       "      <th>merchant_has_profile_picture</th>\n",
       "      <th>merchant_profile_picture</th>\n",
       "      <th>product_url</th>\n",
       "      <th>product_picture</th>\n",
       "      <th>product_id</th>\n",
       "      <th>theme</th>\n",
       "      <th>crawl_month</th>\n",
       "    </tr>\n",
       "  </thead>\n",
       "  <tbody>\n",
       "    <tr>\n",
       "      <th>0</th>\n",
       "      <td>2020 Summer Vintage Flamingo Print  Pajamas Se...</td>\n",
       "      <td>2020 Summer Vintage Flamingo Print  Pajamas Se...</td>\n",
       "      <td>16.00</td>\n",
       "      <td>14</td>\n",
       "      <td>EUR</td>\n",
       "      <td>100</td>\n",
       "      <td>0</td>\n",
       "      <td>3.76</td>\n",
       "      <td>54</td>\n",
       "      <td>26.0</td>\n",
       "      <td>...</td>\n",
       "      <td>568</td>\n",
       "      <td>4.128521</td>\n",
       "      <td>595097d6a26f6e070cb878d1</td>\n",
       "      <td>0</td>\n",
       "      <td>NaN</td>\n",
       "      <td>https://www.wish.com/c/5e9ae51d43d6a96e303acdb0</td>\n",
       "      <td>https://contestimg.wish.com/api/webimage/5e9ae...</td>\n",
       "      <td>5e9ae51d43d6a96e303acdb0</td>\n",
       "      <td>summer</td>\n",
       "      <td>2020-08</td>\n",
       "    </tr>\n",
       "    <tr>\n",
       "      <th>1</th>\n",
       "      <td>SSHOUSE Summer Casual Sleeveless Soirée Party ...</td>\n",
       "      <td>Women's Casual Summer Sleeveless Sexy Mini Dress</td>\n",
       "      <td>8.00</td>\n",
       "      <td>22</td>\n",
       "      <td>EUR</td>\n",
       "      <td>20000</td>\n",
       "      <td>1</td>\n",
       "      <td>3.45</td>\n",
       "      <td>6135</td>\n",
       "      <td>2269.0</td>\n",
       "      <td>...</td>\n",
       "      <td>17752</td>\n",
       "      <td>3.899673</td>\n",
       "      <td>56458aa03a698c35c9050988</td>\n",
       "      <td>0</td>\n",
       "      <td>NaN</td>\n",
       "      <td>https://www.wish.com/c/58940d436a0d3d5da4e95a38</td>\n",
       "      <td>https://contestimg.wish.com/api/webimage/58940...</td>\n",
       "      <td>58940d436a0d3d5da4e95a38</td>\n",
       "      <td>summer</td>\n",
       "      <td>2020-08</td>\n",
       "    </tr>\n",
       "    <tr>\n",
       "      <th>2</th>\n",
       "      <td>2020 Nouvelle Arrivée Femmes Printemps et Été ...</td>\n",
       "      <td>2020 New Arrival Women Spring and Summer Beach...</td>\n",
       "      <td>8.00</td>\n",
       "      <td>43</td>\n",
       "      <td>EUR</td>\n",
       "      <td>100</td>\n",
       "      <td>0</td>\n",
       "      <td>3.57</td>\n",
       "      <td>14</td>\n",
       "      <td>5.0</td>\n",
       "      <td>...</td>\n",
       "      <td>295</td>\n",
       "      <td>3.989831</td>\n",
       "      <td>5d464a1ffdf7bc44ee933c65</td>\n",
       "      <td>0</td>\n",
       "      <td>NaN</td>\n",
       "      <td>https://www.wish.com/c/5ea10e2c617580260d55310a</td>\n",
       "      <td>https://contestimg.wish.com/api/webimage/5ea10...</td>\n",
       "      <td>5ea10e2c617580260d55310a</td>\n",
       "      <td>summer</td>\n",
       "      <td>2020-08</td>\n",
       "    </tr>\n",
       "    <tr>\n",
       "      <th>3</th>\n",
       "      <td>Hot Summer Cool T-shirt pour les femmes Mode T...</td>\n",
       "      <td>Hot Summer Cool T Shirt for Women Fashion Tops...</td>\n",
       "      <td>8.00</td>\n",
       "      <td>8</td>\n",
       "      <td>EUR</td>\n",
       "      <td>5000</td>\n",
       "      <td>1</td>\n",
       "      <td>4.03</td>\n",
       "      <td>579</td>\n",
       "      <td>295.0</td>\n",
       "      <td>...</td>\n",
       "      <td>23832</td>\n",
       "      <td>4.020435</td>\n",
       "      <td>58cfdefdacb37b556efdff7c</td>\n",
       "      <td>0</td>\n",
       "      <td>NaN</td>\n",
       "      <td>https://www.wish.com/c/5cedf17ad1d44c52c59e4aca</td>\n",
       "      <td>https://contestimg.wish.com/api/webimage/5cedf...</td>\n",
       "      <td>5cedf17ad1d44c52c59e4aca</td>\n",
       "      <td>summer</td>\n",
       "      <td>2020-08</td>\n",
       "    </tr>\n",
       "    <tr>\n",
       "      <th>4</th>\n",
       "      <td>Femmes Shorts d'été à lacets taille élastique ...</td>\n",
       "      <td>Women Summer Shorts Lace Up Elastic Waistband ...</td>\n",
       "      <td>2.72</td>\n",
       "      <td>3</td>\n",
       "      <td>EUR</td>\n",
       "      <td>100</td>\n",
       "      <td>1</td>\n",
       "      <td>3.10</td>\n",
       "      <td>20</td>\n",
       "      <td>6.0</td>\n",
       "      <td>...</td>\n",
       "      <td>14482</td>\n",
       "      <td>4.001588</td>\n",
       "      <td>5ab3b592c3911a095ad5dadb</td>\n",
       "      <td>0</td>\n",
       "      <td>NaN</td>\n",
       "      <td>https://www.wish.com/c/5ebf5819ebac372b070b0e70</td>\n",
       "      <td>https://contestimg.wish.com/api/webimage/5ebf5...</td>\n",
       "      <td>5ebf5819ebac372b070b0e70</td>\n",
       "      <td>summer</td>\n",
       "      <td>2020-08</td>\n",
       "    </tr>\n",
       "  </tbody>\n",
       "</table>\n",
       "<p>5 rows × 43 columns</p>\n",
       "</div>"
      ],
      "text/plain": [
       "                                               title  \\\n",
       "0  2020 Summer Vintage Flamingo Print  Pajamas Se...   \n",
       "1  SSHOUSE Summer Casual Sleeveless Soirée Party ...   \n",
       "2  2020 Nouvelle Arrivée Femmes Printemps et Été ...   \n",
       "3  Hot Summer Cool T-shirt pour les femmes Mode T...   \n",
       "4  Femmes Shorts d'été à lacets taille élastique ...   \n",
       "\n",
       "                                          title_orig  price  retail_price  \\\n",
       "0  2020 Summer Vintage Flamingo Print  Pajamas Se...  16.00            14   \n",
       "1   Women's Casual Summer Sleeveless Sexy Mini Dress   8.00            22   \n",
       "2  2020 New Arrival Women Spring and Summer Beach...   8.00            43   \n",
       "3  Hot Summer Cool T Shirt for Women Fashion Tops...   8.00             8   \n",
       "4  Women Summer Shorts Lace Up Elastic Waistband ...   2.72             3   \n",
       "\n",
       "  currency_buyer  units_sold  uses_ad_boosts  rating  rating_count  \\\n",
       "0            EUR         100               0    3.76            54   \n",
       "1            EUR       20000               1    3.45          6135   \n",
       "2            EUR         100               0    3.57            14   \n",
       "3            EUR        5000               1    4.03           579   \n",
       "4            EUR         100               1    3.10            20   \n",
       "\n",
       "   rating_five_count  ...  merchant_rating_count  merchant_rating  \\\n",
       "0               26.0  ...                    568         4.128521   \n",
       "1             2269.0  ...                  17752         3.899673   \n",
       "2                5.0  ...                    295         3.989831   \n",
       "3              295.0  ...                  23832         4.020435   \n",
       "4                6.0  ...                  14482         4.001588   \n",
       "\n",
       "                merchant_id  merchant_has_profile_picture  \\\n",
       "0  595097d6a26f6e070cb878d1                             0   \n",
       "1  56458aa03a698c35c9050988                             0   \n",
       "2  5d464a1ffdf7bc44ee933c65                             0   \n",
       "3  58cfdefdacb37b556efdff7c                             0   \n",
       "4  5ab3b592c3911a095ad5dadb                             0   \n",
       "\n",
       "   merchant_profile_picture                                      product_url  \\\n",
       "0                       NaN  https://www.wish.com/c/5e9ae51d43d6a96e303acdb0   \n",
       "1                       NaN  https://www.wish.com/c/58940d436a0d3d5da4e95a38   \n",
       "2                       NaN  https://www.wish.com/c/5ea10e2c617580260d55310a   \n",
       "3                       NaN  https://www.wish.com/c/5cedf17ad1d44c52c59e4aca   \n",
       "4                       NaN  https://www.wish.com/c/5ebf5819ebac372b070b0e70   \n",
       "\n",
       "                                     product_picture  \\\n",
       "0  https://contestimg.wish.com/api/webimage/5e9ae...   \n",
       "1  https://contestimg.wish.com/api/webimage/58940...   \n",
       "2  https://contestimg.wish.com/api/webimage/5ea10...   \n",
       "3  https://contestimg.wish.com/api/webimage/5cedf...   \n",
       "4  https://contestimg.wish.com/api/webimage/5ebf5...   \n",
       "\n",
       "                 product_id   theme crawl_month  \n",
       "0  5e9ae51d43d6a96e303acdb0  summer     2020-08  \n",
       "1  58940d436a0d3d5da4e95a38  summer     2020-08  \n",
       "2  5ea10e2c617580260d55310a  summer     2020-08  \n",
       "3  5cedf17ad1d44c52c59e4aca  summer     2020-08  \n",
       "4  5ebf5819ebac372b070b0e70  summer     2020-08  \n",
       "\n",
       "[5 rows x 43 columns]"
      ]
     },
     "execution_count": 4,
     "metadata": {},
     "output_type": "execute_result"
    }
   ],
   "source": [
    "wish.head()"
   ]
  },
  {
   "cell_type": "code",
   "execution_count": 5,
   "id": "f2164330",
   "metadata": {},
   "outputs": [
    {
     "name": "stdout",
     "output_type": "stream",
     "text": [
      "<class 'pandas.core.frame.DataFrame'>\n",
      "RangeIndex: 1573 entries, 0 to 1572\n",
      "Data columns (total 43 columns):\n",
      " #   Column                        Non-Null Count  Dtype  \n",
      "---  ------                        --------------  -----  \n",
      " 0   title                         1573 non-null   object \n",
      " 1   title_orig                    1573 non-null   object \n",
      " 2   price                         1573 non-null   float64\n",
      " 3   retail_price                  1573 non-null   int64  \n",
      " 4   currency_buyer                1573 non-null   object \n",
      " 5   units_sold                    1573 non-null   int64  \n",
      " 6   uses_ad_boosts                1573 non-null   int64  \n",
      " 7   rating                        1573 non-null   float64\n",
      " 8   rating_count                  1573 non-null   int64  \n",
      " 9   rating_five_count             1528 non-null   float64\n",
      " 10  rating_four_count             1528 non-null   float64\n",
      " 11  rating_three_count            1528 non-null   float64\n",
      " 12  rating_two_count              1528 non-null   float64\n",
      " 13  rating_one_count              1528 non-null   float64\n",
      " 14  badges_count                  1573 non-null   int64  \n",
      " 15  badge_local_product           1573 non-null   int64  \n",
      " 16  badge_product_quality         1573 non-null   int64  \n",
      " 17  badge_fast_shipping           1573 non-null   int64  \n",
      " 18  tags                          1573 non-null   object \n",
      " 19  product_color                 1532 non-null   object \n",
      " 20  product_variation_size_id     1559 non-null   object \n",
      " 21  product_variation_inventory   1573 non-null   int64  \n",
      " 22  shipping_option_name          1573 non-null   object \n",
      " 23  shipping_option_price         1573 non-null   int64  \n",
      " 24  shipping_is_express           1573 non-null   int64  \n",
      " 25  countries_shipped_to          1573 non-null   int64  \n",
      " 26  inventory_total               1573 non-null   int64  \n",
      " 27  has_urgency_banner            473 non-null    float64\n",
      " 28  urgency_text                  473 non-null    object \n",
      " 29  origin_country                1556 non-null   object \n",
      " 30  merchant_title                1573 non-null   object \n",
      " 31  merchant_name                 1569 non-null   object \n",
      " 32  merchant_info_subtitle        1572 non-null   object \n",
      " 33  merchant_rating_count         1573 non-null   int64  \n",
      " 34  merchant_rating               1573 non-null   float64\n",
      " 35  merchant_id                   1573 non-null   object \n",
      " 36  merchant_has_profile_picture  1573 non-null   int64  \n",
      " 37  merchant_profile_picture      226 non-null    object \n",
      " 38  product_url                   1573 non-null   object \n",
      " 39  product_picture               1573 non-null   object \n",
      " 40  product_id                    1573 non-null   object \n",
      " 41  theme                         1573 non-null   object \n",
      " 42  crawl_month                   1573 non-null   object \n",
      "dtypes: float64(9), int64(15), object(19)\n",
      "memory usage: 528.6+ KB\n"
     ]
    }
   ],
   "source": [
    "wish.info()"
   ]
  },
  {
   "cell_type": "code",
   "execution_count": 6,
   "id": "326dd1f9",
   "metadata": {},
   "outputs": [
    {
     "data": {
      "text/plain": [
       "Index(['title', 'title_orig', 'price', 'retail_price', 'currency_buyer',\n",
       "       'units_sold', 'uses_ad_boosts', 'rating', 'rating_count',\n",
       "       'rating_five_count', 'rating_four_count', 'rating_three_count',\n",
       "       'rating_two_count', 'rating_one_count', 'badges_count',\n",
       "       'badge_local_product', 'badge_product_quality', 'badge_fast_shipping',\n",
       "       'tags', 'product_color', 'product_variation_size_id',\n",
       "       'product_variation_inventory', 'shipping_option_name',\n",
       "       'shipping_option_price', 'shipping_is_express', 'countries_shipped_to',\n",
       "       'inventory_total', 'has_urgency_banner', 'urgency_text',\n",
       "       'origin_country', 'merchant_title', 'merchant_name',\n",
       "       'merchant_info_subtitle', 'merchant_rating_count', 'merchant_rating',\n",
       "       'merchant_id', 'merchant_has_profile_picture',\n",
       "       'merchant_profile_picture', 'product_url', 'product_picture',\n",
       "       'product_id', 'theme', 'crawl_month'],\n",
       "      dtype='object')"
      ]
     },
     "execution_count": 6,
     "metadata": {},
     "output_type": "execute_result"
    }
   ],
   "source": [
    "wish.columns"
   ]
  },
  {
   "cell_type": "code",
   "execution_count": 7,
   "id": "99c8063a",
   "metadata": {},
   "outputs": [],
   "source": [
    "cols = cols = ['title',\n",
    " 'title_orig',\n",
    " 'price',\n",
    " 'retail_price',\n",
    " 'currency_buyer',\n",
    " 'units_sold',\n",
    " 'uses_ad_boosts',\n",
    " 'rating',\n",
    " 'rating_count',\n",
    " 'badges_count',\n",
    " 'badge_product_quality',\n",
    " 'badge_fast_shipping',\n",
    " 'tags',\n",
    " 'product_color',\n",
    " 'product_variation_size_id',\n",
    " 'product_variation_inventory',\n",
    " 'shipping_is_express',\n",
    " 'countries_shipped_to',\n",
    " 'inventory_total',\n",
    " 'has_urgency_banner',\n",
    " 'origin_country',\n",
    " 'merchant_rating_count',\n",
    " 'merchant_rating',]"
   ]
  },
  {
   "cell_type": "code",
   "execution_count": 8,
   "id": "979bd9aa",
   "metadata": {},
   "outputs": [],
   "source": [
    "wish = wish[cols]"
   ]
  },
  {
   "cell_type": "code",
   "execution_count": 9,
   "id": "35e2c20c",
   "metadata": {},
   "outputs": [
    {
     "data": {
      "text/plain": [
       "title                             0\n",
       "title_orig                        0\n",
       "price                             0\n",
       "retail_price                      0\n",
       "currency_buyer                    0\n",
       "units_sold                        0\n",
       "uses_ad_boosts                    0\n",
       "rating                            0\n",
       "rating_count                      0\n",
       "badges_count                      0\n",
       "badge_product_quality             0\n",
       "badge_fast_shipping               0\n",
       "tags                              0\n",
       "product_color                    41\n",
       "product_variation_size_id        14\n",
       "product_variation_inventory       0\n",
       "shipping_is_express               0\n",
       "countries_shipped_to              0\n",
       "inventory_total                   0\n",
       "has_urgency_banner             1100\n",
       "origin_country                   17\n",
       "merchant_rating_count             0\n",
       "merchant_rating                   0\n",
       "dtype: int64"
      ]
     },
     "execution_count": 9,
     "metadata": {},
     "output_type": "execute_result"
    }
   ],
   "source": [
    "wish.isna().sum()"
   ]
  },
  {
   "cell_type": "code",
   "execution_count": 10,
   "id": "22c9ed93",
   "metadata": {},
   "outputs": [],
   "source": [
    "wish.loc[wish[\"product_color\"].isna(), \"product_color\"] = \"\"\n",
    "wish.loc[wish[\"product_variation_size_id\"].isna(), \"product_variation_size_id\"] = \"\"\n",
    "wish.loc[wish[\"has_urgency_banner\"].isna(), \"has_urgency_banner\"] = 0\n",
    "wish.loc[wish[\"origin_country\"].isna(), \"origin_country\"] = \"\"\n"
   ]
  },
  {
   "cell_type": "code",
   "execution_count": 11,
   "id": "d36be2c2",
   "metadata": {},
   "outputs": [
    {
     "data": {
      "text/plain": [
       "title                          0\n",
       "title_orig                     0\n",
       "price                          0\n",
       "retail_price                   0\n",
       "currency_buyer                 0\n",
       "units_sold                     0\n",
       "uses_ad_boosts                 0\n",
       "rating                         0\n",
       "rating_count                   0\n",
       "badges_count                   0\n",
       "badge_product_quality          0\n",
       "badge_fast_shipping            0\n",
       "tags                           0\n",
       "product_color                  0\n",
       "product_variation_size_id      0\n",
       "product_variation_inventory    0\n",
       "shipping_is_express            0\n",
       "countries_shipped_to           0\n",
       "inventory_total                0\n",
       "has_urgency_banner             0\n",
       "origin_country                 0\n",
       "merchant_rating_count          0\n",
       "merchant_rating                0\n",
       "dtype: int64"
      ]
     },
     "execution_count": 11,
     "metadata": {},
     "output_type": "execute_result"
    }
   ],
   "source": [
    "wish.isna().sum()"
   ]
  },
  {
   "cell_type": "code",
   "execution_count": 12,
   "id": "749e8a66",
   "metadata": {},
   "outputs": [
    {
     "data": {
      "text/html": [
       "<div>\n",
       "<style scoped>\n",
       "    .dataframe tbody tr th:only-of-type {\n",
       "        vertical-align: middle;\n",
       "    }\n",
       "\n",
       "    .dataframe tbody tr th {\n",
       "        vertical-align: top;\n",
       "    }\n",
       "\n",
       "    .dataframe thead th {\n",
       "        text-align: right;\n",
       "    }\n",
       "</style>\n",
       "<table border=\"1\" class=\"dataframe\">\n",
       "  <thead>\n",
       "    <tr style=\"text-align: right;\">\n",
       "      <th></th>\n",
       "      <th>price</th>\n",
       "      <th>retail_price</th>\n",
       "      <th>units_sold</th>\n",
       "      <th>uses_ad_boosts</th>\n",
       "      <th>rating</th>\n",
       "      <th>rating_count</th>\n",
       "      <th>badges_count</th>\n",
       "      <th>badge_product_quality</th>\n",
       "      <th>badge_fast_shipping</th>\n",
       "      <th>product_variation_inventory</th>\n",
       "      <th>shipping_is_express</th>\n",
       "      <th>countries_shipped_to</th>\n",
       "      <th>inventory_total</th>\n",
       "      <th>has_urgency_banner</th>\n",
       "      <th>merchant_rating_count</th>\n",
       "      <th>merchant_rating</th>\n",
       "    </tr>\n",
       "  </thead>\n",
       "  <tbody>\n",
       "    <tr>\n",
       "      <th>count</th>\n",
       "      <td>1573.000000</td>\n",
       "      <td>1573.000000</td>\n",
       "      <td>1573.000000</td>\n",
       "      <td>1573.000000</td>\n",
       "      <td>1573.000000</td>\n",
       "      <td>1573.000000</td>\n",
       "      <td>1573.000000</td>\n",
       "      <td>1573.000000</td>\n",
       "      <td>1573.000000</td>\n",
       "      <td>1573.000000</td>\n",
       "      <td>1573.000000</td>\n",
       "      <td>1573.000000</td>\n",
       "      <td>1573.000000</td>\n",
       "      <td>1573.000000</td>\n",
       "      <td>1.573000e+03</td>\n",
       "      <td>1573.000000</td>\n",
       "    </tr>\n",
       "    <tr>\n",
       "      <th>mean</th>\n",
       "      <td>8.325372</td>\n",
       "      <td>23.288620</td>\n",
       "      <td>4339.005086</td>\n",
       "      <td>0.432931</td>\n",
       "      <td>3.820896</td>\n",
       "      <td>889.659250</td>\n",
       "      <td>0.105531</td>\n",
       "      <td>0.074380</td>\n",
       "      <td>0.012715</td>\n",
       "      <td>33.081373</td>\n",
       "      <td>0.002543</td>\n",
       "      <td>40.456453</td>\n",
       "      <td>49.821360</td>\n",
       "      <td>0.300699</td>\n",
       "      <td>2.649583e+04</td>\n",
       "      <td>4.032345</td>\n",
       "    </tr>\n",
       "    <tr>\n",
       "      <th>std</th>\n",
       "      <td>3.932030</td>\n",
       "      <td>30.357863</td>\n",
       "      <td>9356.539302</td>\n",
       "      <td>0.495639</td>\n",
       "      <td>0.515374</td>\n",
       "      <td>1983.928834</td>\n",
       "      <td>0.340709</td>\n",
       "      <td>0.262472</td>\n",
       "      <td>0.112075</td>\n",
       "      <td>21.353137</td>\n",
       "      <td>0.050379</td>\n",
       "      <td>20.301203</td>\n",
       "      <td>2.562799</td>\n",
       "      <td>0.458708</td>\n",
       "      <td>7.847446e+04</td>\n",
       "      <td>0.204768</td>\n",
       "    </tr>\n",
       "    <tr>\n",
       "      <th>min</th>\n",
       "      <td>1.000000</td>\n",
       "      <td>1.000000</td>\n",
       "      <td>1.000000</td>\n",
       "      <td>0.000000</td>\n",
       "      <td>1.000000</td>\n",
       "      <td>0.000000</td>\n",
       "      <td>0.000000</td>\n",
       "      <td>0.000000</td>\n",
       "      <td>0.000000</td>\n",
       "      <td>1.000000</td>\n",
       "      <td>0.000000</td>\n",
       "      <td>6.000000</td>\n",
       "      <td>1.000000</td>\n",
       "      <td>0.000000</td>\n",
       "      <td>0.000000e+00</td>\n",
       "      <td>2.333333</td>\n",
       "    </tr>\n",
       "    <tr>\n",
       "      <th>25%</th>\n",
       "      <td>5.810000</td>\n",
       "      <td>7.000000</td>\n",
       "      <td>100.000000</td>\n",
       "      <td>0.000000</td>\n",
       "      <td>3.550000</td>\n",
       "      <td>24.000000</td>\n",
       "      <td>0.000000</td>\n",
       "      <td>0.000000</td>\n",
       "      <td>0.000000</td>\n",
       "      <td>6.000000</td>\n",
       "      <td>0.000000</td>\n",
       "      <td>31.000000</td>\n",
       "      <td>50.000000</td>\n",
       "      <td>0.000000</td>\n",
       "      <td>1.987000e+03</td>\n",
       "      <td>3.917353</td>\n",
       "    </tr>\n",
       "    <tr>\n",
       "      <th>50%</th>\n",
       "      <td>8.000000</td>\n",
       "      <td>10.000000</td>\n",
       "      <td>1000.000000</td>\n",
       "      <td>0.000000</td>\n",
       "      <td>3.850000</td>\n",
       "      <td>150.000000</td>\n",
       "      <td>0.000000</td>\n",
       "      <td>0.000000</td>\n",
       "      <td>0.000000</td>\n",
       "      <td>50.000000</td>\n",
       "      <td>0.000000</td>\n",
       "      <td>40.000000</td>\n",
       "      <td>50.000000</td>\n",
       "      <td>0.000000</td>\n",
       "      <td>7.936000e+03</td>\n",
       "      <td>4.040650</td>\n",
       "    </tr>\n",
       "    <tr>\n",
       "      <th>75%</th>\n",
       "      <td>11.000000</td>\n",
       "      <td>26.000000</td>\n",
       "      <td>5000.000000</td>\n",
       "      <td>1.000000</td>\n",
       "      <td>4.110000</td>\n",
       "      <td>855.000000</td>\n",
       "      <td>0.000000</td>\n",
       "      <td>0.000000</td>\n",
       "      <td>0.000000</td>\n",
       "      <td>50.000000</td>\n",
       "      <td>0.000000</td>\n",
       "      <td>43.000000</td>\n",
       "      <td>50.000000</td>\n",
       "      <td>1.000000</td>\n",
       "      <td>2.456400e+04</td>\n",
       "      <td>4.161797</td>\n",
       "    </tr>\n",
       "    <tr>\n",
       "      <th>max</th>\n",
       "      <td>49.000000</td>\n",
       "      <td>252.000000</td>\n",
       "      <td>100000.000000</td>\n",
       "      <td>1.000000</td>\n",
       "      <td>5.000000</td>\n",
       "      <td>20744.000000</td>\n",
       "      <td>3.000000</td>\n",
       "      <td>1.000000</td>\n",
       "      <td>1.000000</td>\n",
       "      <td>50.000000</td>\n",
       "      <td>1.000000</td>\n",
       "      <td>140.000000</td>\n",
       "      <td>50.000000</td>\n",
       "      <td>1.000000</td>\n",
       "      <td>2.174765e+06</td>\n",
       "      <td>5.000000</td>\n",
       "    </tr>\n",
       "  </tbody>\n",
       "</table>\n",
       "</div>"
      ],
      "text/plain": [
       "             price  retail_price     units_sold  uses_ad_boosts       rating  \\\n",
       "count  1573.000000   1573.000000    1573.000000     1573.000000  1573.000000   \n",
       "mean      8.325372     23.288620    4339.005086        0.432931     3.820896   \n",
       "std       3.932030     30.357863    9356.539302        0.495639     0.515374   \n",
       "min       1.000000      1.000000       1.000000        0.000000     1.000000   \n",
       "25%       5.810000      7.000000     100.000000        0.000000     3.550000   \n",
       "50%       8.000000     10.000000    1000.000000        0.000000     3.850000   \n",
       "75%      11.000000     26.000000    5000.000000        1.000000     4.110000   \n",
       "max      49.000000    252.000000  100000.000000        1.000000     5.000000   \n",
       "\n",
       "       rating_count  badges_count  badge_product_quality  badge_fast_shipping  \\\n",
       "count   1573.000000   1573.000000            1573.000000          1573.000000   \n",
       "mean     889.659250      0.105531               0.074380             0.012715   \n",
       "std     1983.928834      0.340709               0.262472             0.112075   \n",
       "min        0.000000      0.000000               0.000000             0.000000   \n",
       "25%       24.000000      0.000000               0.000000             0.000000   \n",
       "50%      150.000000      0.000000               0.000000             0.000000   \n",
       "75%      855.000000      0.000000               0.000000             0.000000   \n",
       "max    20744.000000      3.000000               1.000000             1.000000   \n",
       "\n",
       "       product_variation_inventory  shipping_is_express  countries_shipped_to  \\\n",
       "count                  1573.000000          1573.000000           1573.000000   \n",
       "mean                     33.081373             0.002543             40.456453   \n",
       "std                      21.353137             0.050379             20.301203   \n",
       "min                       1.000000             0.000000              6.000000   \n",
       "25%                       6.000000             0.000000             31.000000   \n",
       "50%                      50.000000             0.000000             40.000000   \n",
       "75%                      50.000000             0.000000             43.000000   \n",
       "max                      50.000000             1.000000            140.000000   \n",
       "\n",
       "       inventory_total  has_urgency_banner  merchant_rating_count  \\\n",
       "count      1573.000000         1573.000000           1.573000e+03   \n",
       "mean         49.821360            0.300699           2.649583e+04   \n",
       "std           2.562799            0.458708           7.847446e+04   \n",
       "min           1.000000            0.000000           0.000000e+00   \n",
       "25%          50.000000            0.000000           1.987000e+03   \n",
       "50%          50.000000            0.000000           7.936000e+03   \n",
       "75%          50.000000            1.000000           2.456400e+04   \n",
       "max          50.000000            1.000000           2.174765e+06   \n",
       "\n",
       "       merchant_rating  \n",
       "count      1573.000000  \n",
       "mean          4.032345  \n",
       "std           0.204768  \n",
       "min           2.333333  \n",
       "25%           3.917353  \n",
       "50%           4.040650  \n",
       "75%           4.161797  \n",
       "max           5.000000  "
      ]
     },
     "execution_count": 12,
     "metadata": {},
     "output_type": "execute_result"
    }
   ],
   "source": [
    "wish.describe()"
   ]
  },
  {
   "cell_type": "code",
   "execution_count": 13,
   "id": "96ebe96d",
   "metadata": {},
   "outputs": [],
   "source": [
    "categorical_cols = [i for i in wish.columns if i not in wish.describe().columns]"
   ]
  },
  {
   "cell_type": "code",
   "execution_count": 14,
   "id": "b90430df",
   "metadata": {},
   "outputs": [
    {
     "data": {
      "text/plain": [
       "['title',\n",
       " 'title_orig',\n",
       " 'currency_buyer',\n",
       " 'tags',\n",
       " 'product_color',\n",
       " 'product_variation_size_id',\n",
       " 'origin_country']"
      ]
     },
     "execution_count": 14,
     "metadata": {},
     "output_type": "execute_result"
    }
   ],
   "source": [
    "categorical_cols"
   ]
  },
  {
   "cell_type": "code",
   "execution_count": 15,
   "id": "a1a4fefe",
   "metadata": {},
   "outputs": [],
   "source": [
    "num_cols = wish.describe().columns"
   ]
  },
  {
   "cell_type": "code",
   "execution_count": 16,
   "id": "5d5975b1",
   "metadata": {},
   "outputs": [
    {
     "data": {
      "text/plain": [
       "Index(['price', 'retail_price', 'units_sold', 'uses_ad_boosts', 'rating',\n",
       "       'rating_count', 'badges_count', 'badge_product_quality',\n",
       "       'badge_fast_shipping', 'product_variation_inventory',\n",
       "       'shipping_is_express', 'countries_shipped_to', 'inventory_total',\n",
       "       'has_urgency_banner', 'merchant_rating_count', 'merchant_rating'],\n",
       "      dtype='object')"
      ]
     },
     "execution_count": 16,
     "metadata": {},
     "output_type": "execute_result"
    }
   ],
   "source": [
    "num_cols"
   ]
  },
  {
   "cell_type": "code",
   "execution_count": 17,
   "id": "34879615",
   "metadata": {},
   "outputs": [
    {
     "data": {
      "image/png": "[encoded data removed]",
      "text/plain": [
       "<Figure size 1440x360 with 1 Axes>"
      ]
     },
     "metadata": {
      "needs_background": "light"
     },
     "output_type": "display_data"
    },
    {
     "data": {
      "image/png": "[encoded data removed]",
      "text/plain": [
       "<Figure size 1440x360 with 1 Axes>"
      ]
     },
     "metadata": {
      "needs_background": "light"
     },
     "output_type": "display_data"
    },
    {
     "data": {
      "image/png": "[encoded data removed]",
      "text/plain": [
       "<Figure size 1440x360 with 1 Axes>"
      ]
     },
     "metadata": {
      "needs_background": "light"
     },
     "output_type": "display_data"
    },
    {
     "data": {
      "image/png": "[encoded data removed]",
      "text/plain": [
       "<Figure size 1440x360 with 1 Axes>"
      ]
     },
     "metadata": {
      "needs_background": "light"
     },
     "output_type": "display_data"
    },
    {
     "data": {
      "image/png": "[encoded data removed]",
      "text/plain": [
       "<Figure size 1440x360 with 1 Axes>"
      ]
     },
     "metadata": {
      "needs_background": "light"
     },
     "output_type": "display_data"
    },
    {
     "data": {
      "image/png": "[encoded data removed]",
      "text/plain": [
       "<Figure size 1440x360 with 1 Axes>"
      ]
     },
     "metadata": {
      "needs_background": "light"
     },
     "output_type": "display_data"
    },
    {
     "data": {
      "image/png": "[encoded data removed]",
      "text/plain": [
       "<Figure size 1440x360 with 1 Axes>"
      ]
     },
     "metadata": {
      "needs_background": "light"
     },
     "output_type": "display_data"
    },
    {
     "data": {
      "image/png": "[encoded data removed]",
      "text/plain": [
       "<Figure size 1440x360 with 1 Axes>"
      ]
     },
     "metadata": {
      "needs_background": "light"
     },
     "output_type": "display_data"
    },
    {
     "data": {
      "image/png": "[encoded data removed]",
      "text/plain": [
       "<Figure size 1440x360 with 1 Axes>"
      ]
     },
     "metadata": {
      "needs_background": "light"
     },
     "output_type": "display_data"
    },
    {
     "data": {
      "image/png": "[encoded data removed]",
      "text/plain": [
       "<Figure size 1440x360 with 1 Axes>"
      ]
     },
     "metadata": {
      "needs_background": "light"
     },
     "output_type": "display_data"
    },
    {
     "data": {
      "image/png": "[encoded data removed]",
      "text/plain": [
       "<Figure size 1440x360 with 1 Axes>"
      ]
     },
     "metadata": {
      "needs_background": "light"
     },
     "output_type": "display_data"
    },
    {
     "data": {
      "image/png": "[encoded data removed]",
      "text/plain": [
       "<Figure size 1440x360 with 1 Axes>"
      ]
     },
     "metadata": {
      "needs_background": "light"
     },
     "output_type": "display_data"
    },
    {
     "data": {
      "image/png": "[encoded data removed]",
      "text/plain": [
       "<Figure size 1440x360 with 1 Axes>"
      ]
     },
     "metadata": {
      "needs_background": "light"
     },
     "output_type": "display_data"
    },
    {
     "data": {
      "image/png": "[encoded data removed]",
      "text/plain": [
       "<Figure size 1440x360 with 1 Axes>"
      ]
     },
     "metadata": {
      "needs_background": "light"
     },
     "output_type": "display_data"
    },
    {
     "data": {
      "image/png": "[encoded data removed]",
      "text/plain": [
       "<Figure size 1440x360 with 1 Axes>"
      ]
     },
     "metadata": {
      "needs_background": "light"
     },
     "output_type": "display_data"
    },
    {
     "data": {
      "image/png": "[encoded data removed]",
      "text/plain": [
       "<Figure size 1440x360 with 1 Axes>"
      ]
     },
     "metadata": {
      "needs_background": "light"
     },
     "output_type": "display_data"
    }
   ],
   "source": [
    "for i in num_cols:\n",
    "    fig, ax = plt.subplots(1,1,figsize=(20,5))\n",
    "    sns.histplot(data=wish, x=i)\n",
    "    "
   ]
  },
  {
   "cell_type": "code",
   "execution_count": 18,
   "id": "93ee246c",
   "metadata": {},
   "outputs": [
    {
     "data": {
      "text/html": [
       "<div>\n",
       "<style scoped>\n",
       "    .dataframe tbody tr th:only-of-type {\n",
       "        vertical-align: middle;\n",
       "    }\n",
       "\n",
       "    .dataframe tbody tr th {\n",
       "        vertical-align: top;\n",
       "    }\n",
       "\n",
       "    .dataframe thead th {\n",
       "        text-align: right;\n",
       "    }\n",
       "</style>\n",
       "<table border=\"1\" class=\"dataframe\">\n",
       "  <thead>\n",
       "    <tr style=\"text-align: right;\">\n",
       "      <th></th>\n",
       "      <th>price</th>\n",
       "      <th>retail_price</th>\n",
       "      <th>units_sold</th>\n",
       "      <th>uses_ad_boosts</th>\n",
       "      <th>rating</th>\n",
       "      <th>rating_count</th>\n",
       "      <th>badges_count</th>\n",
       "      <th>badge_product_quality</th>\n",
       "      <th>badge_fast_shipping</th>\n",
       "      <th>product_variation_inventory</th>\n",
       "      <th>shipping_is_express</th>\n",
       "      <th>countries_shipped_to</th>\n",
       "      <th>inventory_total</th>\n",
       "      <th>has_urgency_banner</th>\n",
       "      <th>merchant_rating_count</th>\n",
       "      <th>merchant_rating</th>\n",
       "    </tr>\n",
       "  </thead>\n",
       "  <tbody>\n",
       "    <tr>\n",
       "      <th>price</th>\n",
       "      <td>1.000000</td>\n",
       "      <td>0.304748</td>\n",
       "      <td>-0.024815</td>\n",
       "      <td>-0.073269</td>\n",
       "      <td>0.053469</td>\n",
       "      <td>-0.001911</td>\n",
       "      <td>0.063542</td>\n",
       "      <td>0.009512</td>\n",
       "      <td>0.087336</td>\n",
       "      <td>0.274819</td>\n",
       "      <td>0.146751</td>\n",
       "      <td>-0.033312</td>\n",
       "      <td>-0.168222</td>\n",
       "      <td>-0.021222</td>\n",
       "      <td>-0.023790</td>\n",
       "      <td>0.047121</td>\n",
       "    </tr>\n",
       "    <tr>\n",
       "      <th>retail_price</th>\n",
       "      <td>0.304748</td>\n",
       "      <td>1.000000</td>\n",
       "      <td>0.012638</td>\n",
       "      <td>-0.035325</td>\n",
       "      <td>0.024106</td>\n",
       "      <td>0.053872</td>\n",
       "      <td>0.019625</td>\n",
       "      <td>0.000098</td>\n",
       "      <td>0.032201</td>\n",
       "      <td>0.118842</td>\n",
       "      <td>-0.010047</td>\n",
       "      <td>0.035599</td>\n",
       "      <td>-0.003041</td>\n",
       "      <td>-0.010942</td>\n",
       "      <td>0.029159</td>\n",
       "      <td>0.054399</td>\n",
       "    </tr>\n",
       "    <tr>\n",
       "      <th>units_sold</th>\n",
       "      <td>-0.024815</td>\n",
       "      <td>0.012638</td>\n",
       "      <td>1.000000</td>\n",
       "      <td>-0.016055</td>\n",
       "      <td>0.039478</td>\n",
       "      <td>0.899464</td>\n",
       "      <td>0.045402</td>\n",
       "      <td>0.063187</td>\n",
       "      <td>-0.000898</td>\n",
       "      <td>0.133846</td>\n",
       "      <td>-0.008308</td>\n",
       "      <td>-0.013553</td>\n",
       "      <td>0.005608</td>\n",
       "      <td>-0.023891</td>\n",
       "      <td>0.272897</td>\n",
       "      <td>0.122504</td>\n",
       "    </tr>\n",
       "    <tr>\n",
       "      <th>uses_ad_boosts</th>\n",
       "      <td>-0.073269</td>\n",
       "      <td>-0.035325</td>\n",
       "      <td>-0.016055</td>\n",
       "      <td>1.000000</td>\n",
       "      <td>-0.049410</td>\n",
       "      <td>-0.043936</td>\n",
       "      <td>0.038173</td>\n",
       "      <td>0.001697</td>\n",
       "      <td>0.038265</td>\n",
       "      <td>-0.135384</td>\n",
       "      <td>-0.018641</td>\n",
       "      <td>-0.017439</td>\n",
       "      <td>0.042395</td>\n",
       "      <td>0.017414</td>\n",
       "      <td>0.029735</td>\n",
       "      <td>-0.022564</td>\n",
       "    </tr>\n",
       "    <tr>\n",
       "      <th>rating</th>\n",
       "      <td>0.053469</td>\n",
       "      <td>0.024106</td>\n",
       "      <td>0.039478</td>\n",
       "      <td>-0.049410</td>\n",
       "      <td>1.000000</td>\n",
       "      <td>0.054112</td>\n",
       "      <td>0.201503</td>\n",
       "      <td>0.264360</td>\n",
       "      <td>-0.013413</td>\n",
       "      <td>0.031954</td>\n",
       "      <td>0.024168</td>\n",
       "      <td>0.046423</td>\n",
       "      <td>-0.053156</td>\n",
       "      <td>-0.037736</td>\n",
       "      <td>0.033837</td>\n",
       "      <td>0.237305</td>\n",
       "    </tr>\n",
       "    <tr>\n",
       "      <th>rating_count</th>\n",
       "      <td>-0.001911</td>\n",
       "      <td>0.053872</td>\n",
       "      <td>0.899464</td>\n",
       "      <td>-0.043936</td>\n",
       "      <td>0.054112</td>\n",
       "      <td>1.000000</td>\n",
       "      <td>0.077648</td>\n",
       "      <td>0.082852</td>\n",
       "      <td>0.044762</td>\n",
       "      <td>0.134246</td>\n",
       "      <td>-0.001137</td>\n",
       "      <td>-0.001843</td>\n",
       "      <td>0.008076</td>\n",
       "      <td>-0.004729</td>\n",
       "      <td>0.258168</td>\n",
       "      <td>0.141255</td>\n",
       "    </tr>\n",
       "    <tr>\n",
       "      <th>badges_count</th>\n",
       "      <td>0.063542</td>\n",
       "      <td>0.019625</td>\n",
       "      <td>0.045402</td>\n",
       "      <td>0.038173</td>\n",
       "      <td>0.201503</td>\n",
       "      <td>0.077648</td>\n",
       "      <td>1.000000</td>\n",
       "      <td>0.801352</td>\n",
       "      <td>0.481274</td>\n",
       "      <td>0.031346</td>\n",
       "      <td>0.317902</td>\n",
       "      <td>0.021542</td>\n",
       "      <td>-0.093504</td>\n",
       "      <td>-0.024080</td>\n",
       "      <td>0.058436</td>\n",
       "      <td>0.215401</td>\n",
       "    </tr>\n",
       "    <tr>\n",
       "      <th>badge_product_quality</th>\n",
       "      <td>0.009512</td>\n",
       "      <td>0.000098</td>\n",
       "      <td>0.063187</td>\n",
       "      <td>0.001697</td>\n",
       "      <td>0.264360</td>\n",
       "      <td>0.082852</td>\n",
       "      <td>0.801352</td>\n",
       "      <td>1.000000</td>\n",
       "      <td>0.011081</td>\n",
       "      <td>0.081776</td>\n",
       "      <td>0.081902</td>\n",
       "      <td>0.011293</td>\n",
       "      <td>-0.065347</td>\n",
       "      <td>-0.011528</td>\n",
       "      <td>0.090089</td>\n",
       "      <td>0.191399</td>\n",
       "    </tr>\n",
       "    <tr>\n",
       "      <th>badge_fast_shipping</th>\n",
       "      <td>0.087336</td>\n",
       "      <td>0.032201</td>\n",
       "      <td>-0.000898</td>\n",
       "      <td>0.038265</td>\n",
       "      <td>-0.013413</td>\n",
       "      <td>0.044762</td>\n",
       "      <td>0.481274</td>\n",
       "      <td>0.011081</td>\n",
       "      <td>1.000000</td>\n",
       "      <td>-0.084695</td>\n",
       "      <td>0.444928</td>\n",
       "      <td>0.019535</td>\n",
       "      <td>-0.120542</td>\n",
       "      <td>-0.000173</td>\n",
       "      <td>-0.021419</td>\n",
       "      <td>0.066266</td>\n",
       "    </tr>\n",
       "    <tr>\n",
       "      <th>product_variation_inventory</th>\n",
       "      <td>0.274819</td>\n",
       "      <td>0.118842</td>\n",
       "      <td>0.133846</td>\n",
       "      <td>-0.135384</td>\n",
       "      <td>0.031954</td>\n",
       "      <td>0.134246</td>\n",
       "      <td>0.031346</td>\n",
       "      <td>0.081776</td>\n",
       "      <td>-0.084695</td>\n",
       "      <td>1.000000</td>\n",
       "      <td>0.011634</td>\n",
       "      <td>0.116129</td>\n",
       "      <td>0.092285</td>\n",
       "      <td>0.004385</td>\n",
       "      <td>0.083577</td>\n",
       "      <td>0.158771</td>\n",
       "    </tr>\n",
       "    <tr>\n",
       "      <th>shipping_is_express</th>\n",
       "      <td>0.146751</td>\n",
       "      <td>-0.010047</td>\n",
       "      <td>-0.008308</td>\n",
       "      <td>-0.018641</td>\n",
       "      <td>0.024168</td>\n",
       "      <td>-0.001137</td>\n",
       "      <td>0.317902</td>\n",
       "      <td>0.081902</td>\n",
       "      <td>0.444928</td>\n",
       "      <td>0.011634</td>\n",
       "      <td>1.000000</td>\n",
       "      <td>0.001352</td>\n",
       "      <td>-0.232975</td>\n",
       "      <td>-0.005582</td>\n",
       "      <td>-0.004712</td>\n",
       "      <td>0.061606</td>\n",
       "    </tr>\n",
       "    <tr>\n",
       "      <th>countries_shipped_to</th>\n",
       "      <td>-0.033312</td>\n",
       "      <td>0.035599</td>\n",
       "      <td>-0.013553</td>\n",
       "      <td>-0.017439</td>\n",
       "      <td>0.046423</td>\n",
       "      <td>-0.001843</td>\n",
       "      <td>0.021542</td>\n",
       "      <td>0.011293</td>\n",
       "      <td>0.019535</td>\n",
       "      <td>0.116129</td>\n",
       "      <td>0.001352</td>\n",
       "      <td>1.000000</td>\n",
       "      <td>-0.016588</td>\n",
       "      <td>-0.008259</td>\n",
       "      <td>0.111769</td>\n",
       "      <td>0.134551</td>\n",
       "    </tr>\n",
       "    <tr>\n",
       "      <th>inventory_total</th>\n",
       "      <td>-0.168222</td>\n",
       "      <td>-0.003041</td>\n",
       "      <td>0.005608</td>\n",
       "      <td>0.042395</td>\n",
       "      <td>-0.053156</td>\n",
       "      <td>0.008076</td>\n",
       "      <td>-0.093504</td>\n",
       "      <td>-0.065347</td>\n",
       "      <td>-0.120542</td>\n",
       "      <td>0.092285</td>\n",
       "      <td>-0.232975</td>\n",
       "      <td>-0.016588</td>\n",
       "      <td>1.000000</td>\n",
       "      <td>0.039230</td>\n",
       "      <td>0.014199</td>\n",
       "      <td>-0.076986</td>\n",
       "    </tr>\n",
       "    <tr>\n",
       "      <th>has_urgency_banner</th>\n",
       "      <td>-0.021222</td>\n",
       "      <td>-0.010942</td>\n",
       "      <td>-0.023891</td>\n",
       "      <td>0.017414</td>\n",
       "      <td>-0.037736</td>\n",
       "      <td>-0.004729</td>\n",
       "      <td>-0.024080</td>\n",
       "      <td>-0.011528</td>\n",
       "      <td>-0.000173</td>\n",
       "      <td>0.004385</td>\n",
       "      <td>-0.005582</td>\n",
       "      <td>-0.008259</td>\n",
       "      <td>0.039230</td>\n",
       "      <td>1.000000</td>\n",
       "      <td>0.002627</td>\n",
       "      <td>0.001066</td>\n",
       "    </tr>\n",
       "    <tr>\n",
       "      <th>merchant_rating_count</th>\n",
       "      <td>-0.023790</td>\n",
       "      <td>0.029159</td>\n",
       "      <td>0.272897</td>\n",
       "      <td>0.029735</td>\n",
       "      <td>0.033837</td>\n",
       "      <td>0.258168</td>\n",
       "      <td>0.058436</td>\n",
       "      <td>0.090089</td>\n",
       "      <td>-0.021419</td>\n",
       "      <td>0.083577</td>\n",
       "      <td>-0.004712</td>\n",
       "      <td>0.111769</td>\n",
       "      <td>0.014199</td>\n",
       "      <td>0.002627</td>\n",
       "      <td>1.000000</td>\n",
       "      <td>0.136401</td>\n",
       "    </tr>\n",
       "    <tr>\n",
       "      <th>merchant_rating</th>\n",
       "      <td>0.047121</td>\n",
       "      <td>0.054399</td>\n",
       "      <td>0.122504</td>\n",
       "      <td>-0.022564</td>\n",
       "      <td>0.237305</td>\n",
       "      <td>0.141255</td>\n",
       "      <td>0.215401</td>\n",
       "      <td>0.191399</td>\n",
       "      <td>0.066266</td>\n",
       "      <td>0.158771</td>\n",
       "      <td>0.061606</td>\n",
       "      <td>0.134551</td>\n",
       "      <td>-0.076986</td>\n",
       "      <td>0.001066</td>\n",
       "      <td>0.136401</td>\n",
       "      <td>1.000000</td>\n",
       "    </tr>\n",
       "  </tbody>\n",
       "</table>\n",
       "</div>"
      ],
      "text/plain": [
       "                                price  retail_price  units_sold  \\\n",
       "price                        1.000000      0.304748   -0.024815   \n",
       "retail_price                 0.304748      1.000000    0.012638   \n",
       "units_sold                  -0.024815      0.012638    1.000000   \n",
       "uses_ad_boosts              -0.073269     -0.035325   -0.016055   \n",
       "rating                       0.053469      0.024106    0.039478   \n",
       "rating_count                -0.001911      0.053872    0.899464   \n",
       "badges_count                 0.063542      0.019625    0.045402   \n",
       "badge_product_quality        0.009512      0.000098    0.063187   \n",
       "badge_fast_shipping          0.087336      0.032201   -0.000898   \n",
       "product_variation_inventory  0.274819      0.118842    0.133846   \n",
       "shipping_is_express          0.146751     -0.010047   -0.008308   \n",
       "countries_shipped_to        -0.033312      0.035599   -0.013553   \n",
       "inventory_total             -0.168222     -0.003041    0.005608   \n",
       "has_urgency_banner          -0.021222     -0.010942   -0.023891   \n",
       "merchant_rating_count       -0.023790      0.029159    0.272897   \n",
       "merchant_rating              0.047121      0.054399    0.122504   \n",
       "\n",
       "                             uses_ad_boosts    rating  rating_count  \\\n",
       "price                             -0.073269  0.053469     -0.001911   \n",
       "retail_price                      -0.035325  0.024106      0.053872   \n",
       "units_sold                        -0.016055  0.039478      0.899464   \n",
       "uses_ad_boosts                     1.000000 -0.049410     -0.043936   \n",
       "rating                            -0.049410  1.000000      0.054112   \n",
       "rating_count                      -0.043936  0.054112      1.000000   \n",
       "badges_count                       0.038173  0.201503      0.077648   \n",
       "badge_product_quality              0.001697  0.264360      0.082852   \n",
       "badge_fast_shipping                0.038265 -0.013413      0.044762   \n",
       "product_variation_inventory       -0.135384  0.031954      0.134246   \n",
       "shipping_is_express               -0.018641  0.024168     -0.001137   \n",
       "countries_shipped_to              -0.017439  0.046423     -0.001843   \n",
       "inventory_total                    0.042395 -0.053156      0.008076   \n",
       "has_urgency_banner                 0.017414 -0.037736     -0.004729   \n",
       "merchant_rating_count              0.029735  0.033837      0.258168   \n",
       "merchant_rating                   -0.022564  0.237305      0.141255   \n",
       "\n",
       "                             badges_count  badge_product_quality  \\\n",
       "price                            0.063542               0.009512   \n",
       "retail_price                     0.019625               0.000098   \n",
       "units_sold                       0.045402               0.063187   \n",
       "uses_ad_boosts                   0.038173               0.001697   \n",
       "rating                           0.201503               0.264360   \n",
       "rating_count                     0.077648               0.082852   \n",
       "badges_count                     1.000000               0.801352   \n",
       "badge_product_quality            0.801352               1.000000   \n",
       "badge_fast_shipping              0.481274               0.011081   \n",
       "product_variation_inventory      0.031346               0.081776   \n",
       "shipping_is_express              0.317902               0.081902   \n",
       "countries_shipped_to             0.021542               0.011293   \n",
       "inventory_total                 -0.093504              -0.065347   \n",
       "has_urgency_banner              -0.024080              -0.011528   \n",
       "merchant_rating_count            0.058436               0.090089   \n",
       "merchant_rating                  0.215401               0.191399   \n",
       "\n",
       "                             badge_fast_shipping  product_variation_inventory  \\\n",
       "price                                   0.087336                     0.274819   \n",
       "retail_price                            0.032201                     0.118842   \n",
       "units_sold                             -0.000898                     0.133846   \n",
       "uses_ad_boosts                          0.038265                    -0.135384   \n",
       "rating                                 -0.013413                     0.031954   \n",
       "rating_count                            0.044762                     0.134246   \n",
       "badges_count                            0.481274                     0.031346   \n",
       "badge_product_quality                   0.011081                     0.081776   \n",
       "badge_fast_shipping                     1.000000                    -0.084695   \n",
       "product_variation_inventory            -0.084695                     1.000000   \n",
       "shipping_is_express                     0.444928                     0.011634   \n",
       "countries_shipped_to                    0.019535                     0.116129   \n",
       "inventory_total                        -0.120542                     0.092285   \n",
       "has_urgency_banner                     -0.000173                     0.004385   \n",
       "merchant_rating_count                  -0.021419                     0.083577   \n",
       "merchant_rating                         0.066266                     0.158771   \n",
       "\n",
       "                             shipping_is_express  countries_shipped_to  \\\n",
       "price                                   0.146751             -0.033312   \n",
       "retail_price                           -0.010047              0.035599   \n",
       "units_sold                             -0.008308             -0.013553   \n",
       "uses_ad_boosts                         -0.018641             -0.017439   \n",
       "rating                                  0.024168              0.046423   \n",
       "rating_count                           -0.001137             -0.001843   \n",
       "badges_count                            0.317902              0.021542   \n",
       "badge_product_quality                   0.081902              0.011293   \n",
       "badge_fast_shipping                     0.444928              0.019535   \n",
       "product_variation_inventory             0.011634              0.116129   \n",
       "shipping_is_express                     1.000000              0.001352   \n",
       "countries_shipped_to                    0.001352              1.000000   \n",
       "inventory_total                        -0.232975             -0.016588   \n",
       "has_urgency_banner                     -0.005582             -0.008259   \n",
       "merchant_rating_count                  -0.004712              0.111769   \n",
       "merchant_rating                         0.061606              0.134551   \n",
       "\n",
       "                             inventory_total  has_urgency_banner  \\\n",
       "price                              -0.168222           -0.021222   \n",
       "retail_price                       -0.003041           -0.010942   \n",
       "units_sold                          0.005608           -0.023891   \n",
       "uses_ad_boosts                      0.042395            0.017414   \n",
       "rating                             -0.053156           -0.037736   \n",
       "rating_count                        0.008076           -0.004729   \n",
       "badges_count                       -0.093504           -0.024080   \n",
       "badge_product_quality              -0.065347           -0.011528   \n",
       "badge_fast_shipping                -0.120542           -0.000173   \n",
       "product_variation_inventory         0.092285            0.004385   \n",
       "shipping_is_express                -0.232975           -0.005582   \n",
       "countries_shipped_to               -0.016588           -0.008259   \n",
       "inventory_total                     1.000000            0.039230   \n",
       "has_urgency_banner                  0.039230            1.000000   \n",
       "merchant_rating_count               0.014199            0.002627   \n",
       "merchant_rating                    -0.076986            0.001066   \n",
       "\n",
       "                             merchant_rating_count  merchant_rating  \n",
       "price                                    -0.023790         0.047121  \n",
       "retail_price                              0.029159         0.054399  \n",
       "units_sold                                0.272897         0.122504  \n",
       "uses_ad_boosts                            0.029735        -0.022564  \n",
       "rating                                    0.033837         0.237305  \n",
       "rating_count                              0.258168         0.141255  \n",
       "badges_count                              0.058436         0.215401  \n",
       "badge_product_quality                     0.090089         0.191399  \n",
       "badge_fast_shipping                      -0.021419         0.066266  \n",
       "product_variation_inventory               0.083577         0.158771  \n",
       "shipping_is_express                      -0.004712         0.061606  \n",
       "countries_shipped_to                      0.111769         0.134551  \n",
       "inventory_total                           0.014199        -0.076986  \n",
       "has_urgency_banner                        0.002627         0.001066  \n",
       "merchant_rating_count                     1.000000         0.136401  \n",
       "merchant_rating                           0.136401         1.000000  "
      ]
     },
     "execution_count": 18,
     "metadata": {},
     "output_type": "execute_result"
    }
   ],
   "source": [
    "wish.corr()"
   ]
  },
  {
   "cell_type": "code",
   "execution_count": 19,
   "id": "f962ea65",
   "metadata": {},
   "outputs": [],
   "source": [
    "i = wish.corr()"
   ]
  },
  {
   "cell_type": "code",
   "execution_count": 20,
   "id": "dd359fed",
   "metadata": {},
   "outputs": [
    {
     "data": {
      "text/plain": [
       "<seaborn.axisgrid.JointGrid at 0x25291752880>"
      ]
     },
     "execution_count": 20,
     "metadata": {},
     "output_type": "execute_result"
    },
    {
     "data": {
      "image/png": "[encoded data removed]",
      "text/plain": [
       "<Figure size 432x432 with 3 Axes>"
      ]
     },
     "metadata": {
      "needs_background": "light"
     },
     "output_type": "display_data"
    }
   ],
   "source": [
    "sns.jointplot(x = \"price\", y = \"rating\",data=wish)"
   ]
  },
  {
   "cell_type": "code",
   "execution_count": 21,
   "id": "dad92901",
   "metadata": {},
   "outputs": [
    {
     "data": {
      "text/plain": [
       "0       2020 Summer Vintage Flamingo Print  Pajamas Se...\n",
       "1        Women's Casual Summer Sleeveless Sexy Mini Dress\n",
       "2       2020 New Arrival Women Spring and Summer Beach...\n",
       "3       Hot Summer Cool T Shirt for Women Fashion Tops...\n",
       "4       Women Summer Shorts Lace Up Elastic Waistband ...\n",
       "                              ...                        \n",
       "1568    New Fashion Women Bohemia Dandelion Print Tee ...\n",
       "1569    10 Color Women Summer Shorts Lace Up Elastic W...\n",
       "1570    New Men Siwmwear Beach-Shorts Men Summer Quick...\n",
       "1571    Fashion Women Summer Sleeveless Dresses V Neck...\n",
       "1572    Fashion Women Yoga Pants Slim Fit Fitness Runn...\n",
       "Name: title_orig, Length: 1573, dtype: object"
      ]
     },
     "execution_count": 21,
     "metadata": {},
     "output_type": "execute_result"
    }
   ],
   "source": [
    "wish[\"title_orig\"]"
   ]
  },
  {
   "cell_type": "code",
   "execution_count": 22,
   "id": "d4372c0d",
   "metadata": {},
   "outputs": [],
   "source": [
    "wish['title_orig'] = wish['title_orig'].apply(lambda x: x.title())"
   ]
  },
  {
   "cell_type": "code",
   "execution_count": 23,
   "id": "69ce39ff",
   "metadata": {},
   "outputs": [
    {
     "data": {
      "text/plain": [
       "0       2020 Summer Vintage Flamingo Print  Pajamas Se...\n",
       "1        Women'S Casual Summer Sleeveless Sexy Mini Dress\n",
       "2       2020 New Arrival Women Spring And Summer Beach...\n",
       "3       Hot Summer Cool T Shirt For Women Fashion Tops...\n",
       "4       Women Summer Shorts Lace Up Elastic Waistband ...\n",
       "                              ...                        \n",
       "1568    New Fashion Women Bohemia Dandelion Print Tee ...\n",
       "1569    10 Color Women Summer Shorts Lace Up Elastic W...\n",
       "1570    New Men Siwmwear Beach-Shorts Men Summer Quick...\n",
       "1571    Fashion Women Summer Sleeveless Dresses V Neck...\n",
       "1572    Fashion Women Yoga Pants Slim Fit Fitness Runn...\n",
       "Name: title_orig, Length: 1573, dtype: object"
      ]
     },
     "execution_count": 23,
     "metadata": {},
     "output_type": "execute_result"
    }
   ],
   "source": [
    "wish['title_orig']"
   ]
  },
  {
   "cell_type": "code",
   "execution_count": 24,
   "id": "5d58c1a9",
   "metadata": {},
   "outputs": [],
   "source": [
    "sex_list = []\n",
    "def sex():\n",
    "    for i in wish['title_orig']:\n",
    "        if \"Women\" in i or \"Women's Fashion\" in i :\n",
    "            sex_list.append(\"Women\")\n",
    "        else:\n",
    "            sex_list.append(\"Man\")\n",
    "            \n",
    "sex()"
   ]
  },
  {
   "cell_type": "code",
   "execution_count": 25,
   "id": "92acbd22",
   "metadata": {},
   "outputs": [],
   "source": [
    "df_test = pd.DataFrame(sex_list)"
   ]
  },
  {
   "cell_type": "code",
   "execution_count": 26,
   "id": "e0f86a32",
   "metadata": {},
   "outputs": [
    {
     "data": {
      "text/plain": [
       "Women    1347\n",
       "Man       226\n",
       "dtype: int64"
      ]
     },
     "execution_count": 26,
     "metadata": {},
     "output_type": "execute_result"
    }
   ],
   "source": [
    "df_test.value_counts()"
   ]
  },
  {
   "cell_type": "code",
   "execution_count": 27,
   "id": "c5eed873",
   "metadata": {},
   "outputs": [],
   "source": [
    "wish[\"sex\"] = sex_list"
   ]
  },
  {
   "cell_type": "code",
   "execution_count": 28,
   "id": "56a4db0a",
   "metadata": {},
   "outputs": [],
   "source": [
    "wish[\"Vendas\"] = wish[\"price\"] * wish[\"units_sold\"]"
   ]
  },
  {
   "cell_type": "code",
   "execution_count": 29,
   "id": "d1afaad1",
   "metadata": {},
   "outputs": [],
   "source": [
    "wish_women = wish[wish[\"sex\"] == \"Women\"]\n",
    "wish_man = wish[wish[\"sex\"] == \"Man\"] "
   ]
  },
  {
   "cell_type": "code",
   "execution_count": 30,
   "id": "538fb54a",
   "metadata": {},
   "outputs": [
    {
     "data": {
      "image/png": "[encoded data removed]",
      "text/plain": [
       "<Figure size 1440x720 with 2 Axes>"
      ]
     },
     "metadata": {
      "needs_background": "light"
     },
     "output_type": "display_data"
    }
   ],
   "source": [
    "fig, ax = plt.subplots(2,1,figsize=(20,10))\n",
    "sns.histplot(wish_women, x = wish_women[\"Vendas\"], stat=\"percent\",  ax=ax[0],hue=\"uses_ad_boosts\")\n",
    "\n",
    "sns.histplot(wish_man, x = wish_man[\"Vendas\"],stat = \"percent\",  ax=ax[1],hue=\"uses_ad_boosts\")\n",
    "\n",
    "plt.show()"
   ]
  },
  {
   "cell_type": "code",
   "execution_count": 31,
   "id": "bfb4b140",
   "metadata": {},
   "outputs": [
    {
     "data": {
      "text/plain": [
       "Women's Fashion    1259\n",
       "Summer             1135\n",
       "Fashion             957\n",
       "Women               950\n",
       "Casual              817\n",
       "Plus Size           606\n",
       "sleeveless          546\n",
       "Dress               520\n",
       "Tops                453\n",
       "Shorts              444\n",
       "dtype: int64"
      ]
     },
     "execution_count": 31,
     "metadata": {},
     "output_type": "execute_result"
    }
   ],
   "source": [
    "tags_women = []\n",
    "tags_man = []\n",
    "\n",
    "for i in wish_women[\"tags\"].values:\n",
    "    tags_women += i.split(\",\")\n",
    "\n",
    "for i in wish_man[\"tags\"].values:\n",
    "    tags_man += i.split(\",\")\n",
    "\n",
    "pd.Series(tags_women).value_counts().head(10)"
   ]
  },
  {
   "cell_type": "code",
   "execution_count": 36,
   "id": "aca32013",
   "metadata": {},
   "outputs": [
    {
     "data": {
      "text/plain": [
       "Summer             186\n",
       "Fashion            125\n",
       "Shorts              96\n",
       "Casual              88\n",
       "Women's Fashion     56\n",
       "                  ... \n",
       "insulatedcooler      1\n",
       "Totes                1\n",
       "Storage              1\n",
       "Shopping Bag         1\n",
       "menbeachshort        1\n",
       "Length: 1066, dtype: int64"
      ]
     },
     "execution_count": 36,
     "metadata": {},
     "output_type": "execute_result"
    }
   ],
   "source": [
    "pd.Series(tags_man).value_counts()"
   ]
  },
  {
   "cell_type": "code",
   "execution_count": 47,
   "id": "ca651c1e",
   "metadata": {},
   "outputs": [
    {
     "name": "stderr",
     "output_type": "stream",
     "text": [
      "C:\\Users\\reneb\\AppData\\Local\\Temp\\ipykernel_15652\\3305550688.py:1: SettingWithCopyWarning: \n",
      "A value is trying to be set on a copy of a slice from a DataFrame.\n",
      "Try using .loc[row_indexer,col_indexer] = value instead\n",
      "\n",
      "See the caveats in the documentation: https://pandas.pydata.org/pandas-docs/stable/user_guide/indexing.html#returning-a-view-versus-a-copy\n",
      "  wish_women[\"Cont. TAGS\"] = wish_women[\"tags\"]\n"
     ]
    }
   ],
   "source": [
    "wish_women[\"Cont. TAGS\"] = wish_women[\"tags\"]"
   ]
  },
  {
   "cell_type": "code",
   "execution_count": 71,
   "id": "35ac909f",
   "metadata": {},
   "outputs": [
    {
     "ename": "TypeError",
     "evalue": "can only join an iterable",
     "output_type": "error",
     "traceback": [
      "\u001b[1;31m---------------------------------------------------------------------------\u001b[0m",
      "\u001b[1;31mTypeError\u001b[0m                                 Traceback (most recent call last)",
      "Input \u001b[1;32mIn [71]\u001b[0m, in \u001b[0;36m<cell line: 1>\u001b[1;34m()\u001b[0m\n\u001b[0;32m      1\u001b[0m \u001b[38;5;28;01mfor\u001b[39;00m i \u001b[38;5;129;01min\u001b[39;00m \u001b[38;5;28mrange\u001b[39m(\u001b[38;5;241m0\u001b[39m,\u001b[38;5;28mlen\u001b[39m(wish_women[\u001b[38;5;124m\"\u001b[39m\u001b[38;5;124mCont. TAGS\u001b[39m\u001b[38;5;124m\"\u001b[39m])):\n\u001b[1;32m----> 2\u001b[0m     string \u001b[38;5;241m=\u001b[39m \u001b[38;5;124;43m\"\u001b[39;49m\u001b[38;5;124;43m,\u001b[39;49m\u001b[38;5;124;43m\"\u001b[39;49m\u001b[38;5;241;43m.\u001b[39;49m\u001b[43mjoin\u001b[49m\u001b[43m(\u001b[49m\u001b[43mwish_women\u001b[49m\u001b[43m[\u001b[49m\u001b[38;5;124;43m\"\u001b[39;49m\u001b[38;5;124;43mCont. TAGS\u001b[39;49m\u001b[38;5;124;43m\"\u001b[39;49m\u001b[43m]\u001b[49m\u001b[43m[\u001b[49m\u001b[43mi\u001b[49m\u001b[43m]\u001b[49m\u001b[43m)\u001b[49m\n\u001b[0;32m      3\u001b[0m     wish_women[\u001b[38;5;124m\"\u001b[39m\u001b[38;5;124mCont. TAGS\u001b[39m\u001b[38;5;124m\"\u001b[39m][i] \u001b[38;5;241m=\u001b[39m string\u001b[38;5;241m.\u001b[39mcount(\u001b[38;5;124m\"\u001b[39m\u001b[38;5;124m,\u001b[39m\u001b[38;5;124m\"\u001b[39m)\n",
      "\u001b[1;31mTypeError\u001b[0m: can only join an iterable"
     ]
    }
   ],
   "source": [
    "for i in range(0,len(wish_women[\"Cont. TAGS\"])):\n",
    "    string = \",\".join(wish_women[\"Cont. TAGS\"][i])\n",
    "    wish_women[\"Cont. TAGS\"][i] = string.count(\",\")"
   ]
  },
  {
   "cell_type": "code",
   "execution_count": 70,
   "id": "86acee23",
   "metadata": {},
   "outputs": [
    {
     "data": {
      "text/plain": [
       "102     194\n",
       "1004      1\n",
       "895       1\n",
       "894       1\n",
       "892       1\n",
       "       ... \n",
       "453       1\n",
       "452       1\n",
       "451       1\n",
       "450       1\n",
       "674       1\n",
       "Name: Cont. TAGS, Length: 1154, dtype: int64"
      ]
     },
     "execution_count": 70,
     "metadata": {},
     "output_type": "execute_result"
    }
   ],
   "source": [
    "wish_women[\"Cont. TAGS\"].value_counts()"
   ]
  },
  {
   "cell_type": "code",
   "execution_count": 68,
   "id": "170de065",
   "metadata": {},
   "outputs": [
    {
     "data": {
      "text/plain": [
       "1347"
      ]
     },
     "execution_count": 68,
     "metadata": {},
     "output_type": "execute_result"
    }
   ],
   "source": [
    "len(wish_women[\"Cont. TAGS\"])"
   ]
  },
  {
   "cell_type": "code",
   "execution_count": null,
   "id": "5f0e636c",
   "metadata": {},
   "outputs": [],
   "source": []
  }
 ],
 "metadata": {
  "kernelspec": {
   "display_name": "Python 3 (ipykernel)",
   "language": "python",
   "name": "python3"
  },
  "language_info": {
   "codemirror_mode": {
    "name": "ipython",
    "version": 3
   },
   "file_extension": ".py",
   "mimetype": "text/x-python",
   "name": "python",
   "nbconvert_exporter": "python",
   "pygments_lexer": "ipython3",
   "version": "3.9.12"
  }
 },
 "nbformat": 4,
 "nbformat_minor": 5
}
